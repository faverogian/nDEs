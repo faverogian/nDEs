{
 "cells": [
  {
   "cell_type": "markdown",
   "metadata": {},
   "source": [
    "# Pre-Processing Pipeline for Character Trajectories Dataset  \n",
    "\n",
    "## Overview\n",
    "\n",
    "This notebook contains the code for importing the raw CharacterTrajectories dataset and preparing it for use with a torchcde, LSTM, and RNN implementation."
   ]
  },
  {
   "cell_type": "code",
   "execution_count": 7,
   "metadata": {},
   "outputs": [],
   "source": [
    "import os\n",
    "from sktime.datasets import load_from_tsfile_to_dataframe\n",
    "import numpy as np\n",
    "import torch\n",
    "\n",
    "# Load the data\n",
    "train_X, train_y = load_from_tsfile_to_dataframe('../../data/raw//char_traj/CharacterTrajectories_TRAIN.ts')\n",
    "test_X, test_y = load_from_tsfile_to_dataframe('../../data/raw/char_traj/CharacterTrajectories_TEST.ts')\n",
    "\n",
    "# Convert to NumPy arrays\n",
    "train_X = train_X.to_numpy()\n",
    "test_X = test_X.to_numpy()\n",
    "\n",
    "# Concatenate the data to form a single dataset\n",
    "X = np.concatenate((train_X, test_X), axis=0)   # (batch, channel)\n",
    "y = np.concatenate((train_y, test_y), axis=0)   # (batch,)\n",
    "\n",
    "# Change the labels to start from 0 and be integers\n",
    "classes = np.unique(y)\n",
    "y = np.array([np.where(classes == yi)[0][0] for yi in y])\n",
    "\n",
    "# Make y a tensor\n",
    "y = torch.tensor(y)"
   ]
  },
  {
   "cell_type": "code",
   "execution_count": 8,
   "metadata": {},
   "outputs": [],
   "source": [
    "def _pad(channel, maxlen):\n",
    "    channel = torch.tensor(channel)\n",
    "    mean_value = torch.mean(channel)\n",
    "    out = torch.full((maxlen,), mean_value, dtype=channel.dtype)\n",
    "    out[:channel.size(0)] = channel\n",
    "    return out\n",
    "\n",
    "# Pad all data to same size with zeros. To be corrected for torchcde\n",
    "lengths = torch.tensor([len(Xi[0]) for Xi in X])\n",
    "maxlen = lengths.max()\n",
    "\n",
    "X = torch.stack([torch.stack([_pad(channel, maxlen) for channel in batch], dim=0) for batch in X], dim=0)\n",
    "X = X.transpose(-1, -2)"
   ]
  },
  {
   "cell_type": "code",
   "execution_count": 9,
   "metadata": {},
   "outputs": [],
   "source": [
    "# Normalize the data\n",
    "mean = X.mean(dim=1, keepdim=True)\n",
    "std = X.std(dim=1, keepdim=True)\n",
    "X = (X - mean) / std\n",
    "\n",
    "# Replace near zero values with zero\n",
    "X[torch.abs(X) < 1e-5] = 0"
   ]
  },
  {
   "cell_type": "code",
   "execution_count": 10,
   "metadata": {},
   "outputs": [],
   "source": [
    "# Add time as a channel\n",
    "times = [np.linspace(0, lengths[i] - 1, lengths[i]) for i in range(len(X))]\n",
    "for i, time in enumerate(times):\n",
    "    padding = np.zeros(maxlen - len(time))\n",
    "    times[i] = np.concatenate((time, padding))\n",
    "\n",
    "times = torch.tensor(times)\n",
    "\n",
    "X = torch.cat((times.unsqueeze(-1), X), dim=-1)"
   ]
  },
  {
   "cell_type": "code",
   "execution_count": 11,
   "metadata": {},
   "outputs": [],
   "source": [
    "# Split the data into a 80-20 train-test split\n",
    "from sklearn.model_selection import train_test_split\n",
    "\n",
    "X_train, X_test, y_train, y_test = train_test_split(X, y, test_size=0.2, random_state=42, stratify=y)\n",
    "\n",
    "# Save the data\n",
    "path = '../../data/processed/CharacterTrajectories/classification'\n",
    "os.makedirs(path, exist_ok=True)\n",
    "torch.save(X_train, os.path.join(path, 'X_train.pt'))\n",
    "torch.save(y_train, os.path.join(path, 'y_train.pt'))\n",
    "torch.save(X_test, os.path.join(path, 'X_test.pt'))\n",
    "torch.save(y_test, os.path.join(path, 'y_test.pt'))"
   ]
  }
 ],
 "metadata": {
  "kernelspec": {
   "display_name": "Python 3 (ipykernel)",
   "language": "python",
   "name": "python3"
  },
  "language_info": {
   "codemirror_mode": {
    "name": "ipython",
    "version": 3
   },
   "file_extension": ".py",
   "mimetype": "text/x-python",
   "name": "python",
   "nbconvert_exporter": "python",
   "pygments_lexer": "ipython3",
   "version": "3.11.8"
  }
 },
 "nbformat": 4,
 "nbformat_minor": 4
}
