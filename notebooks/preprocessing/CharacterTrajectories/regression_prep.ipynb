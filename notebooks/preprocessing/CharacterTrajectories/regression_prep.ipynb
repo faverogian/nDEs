{
 "cells": [
  {
   "cell_type": "markdown",
   "metadata": {},
   "source": [
    "# Pre-Processing Pipeline for Character Trajectories Dataset  \n",
    "\n",
    "## Overview\n",
    "\n",
    "This notebook contains the code for importing the raw CharacterTrajectories dataset and preparing it for use with a torchcde, LSTM, and RNN implementation."
   ]
  },
  {
   "cell_type": "code",
   "execution_count": 1,
   "metadata": {},
   "outputs": [],
   "source": [
    "import os\n",
    "from sktime.datasets import load_from_tsfile_to_dataframe\n",
    "import numpy as np\n",
    "import torch\n",
    "\n",
    "# Load the data\n",
    "train_X, train_y = load_from_tsfile_to_dataframe('../../../data/raw/char_traj/CharacterTrajectories_TRAIN.ts')\n",
    "test_X, test_y = load_from_tsfile_to_dataframe('../../../data/raw/char_traj/CharacterTrajectories_TEST.ts')\n",
    "\n",
    "# Convert to NumPy arrays\n",
    "train_X = train_X.to_numpy()\n",
    "test_X = test_X.to_numpy()\n",
    "\n",
    "# Concatenate the data to form a single dataset\n",
    "X = np.concatenate((train_X, test_X), axis=0)   # (batch, channel)\n",
    "y = np.concatenate((train_y, test_y), axis=0)   # (batch,)\n",
    "\n",
    "# Change the labels to start from 0 and be integers\n",
    "classes = np.unique(y)\n",
    "y = np.array([np.where(classes == yi)[0][0] for yi in y])\n",
    "\n",
    "# Make y a tensor\n",
    "y = torch.tensor(y)"
   ]
  },
  {
   "cell_type": "code",
   "execution_count": 2,
   "metadata": {},
   "outputs": [],
   "source": [
    "def _pad(channel, maxlen):\n",
    "    channel = torch.tensor(channel)\n",
    "    out = torch.full((maxlen,), 0, dtype=channel.dtype)\n",
    "    out[:channel.size(0)] = channel\n",
    "    return out\n",
    "\n",
    "# Pad all data to same size with zeros. To be corrected for torchcde\n",
    "lengths = torch.tensor([len(Xi[0]) for Xi in X])\n",
    "maxlen = lengths.max()\n",
    "\n",
    "X = torch.stack([torch.stack([_pad(channel, maxlen) for channel in batch], dim=0) for batch in X], dim=0)\n",
    "X = X.transpose(-1, -2)"
   ]
  },
  {
   "cell_type": "code",
   "execution_count": 3,
   "metadata": {},
   "outputs": [
    {
     "name": "stderr",
     "output_type": "stream",
     "text": [
      "/tmp/ipykernel_1054402/3901171844.py:7: UserWarning: Creating a tensor from a list of numpy.ndarrays is extremely slow. Please consider converting the list to a single numpy.ndarray with numpy.array() before converting to a tensor. (Triggered internally at ../torch/csrc/utils/tensor_new.cpp:275.)\n",
      "  times = torch.tensor(times)\n"
     ]
    }
   ],
   "source": [
    "# Add time as a channel\n",
    "times = [np.linspace(0, lengths[i] - 1, lengths[i]) for i in range(len(X))]\n",
    "for i, time in enumerate(times):\n",
    "    padding = np.zeros(maxlen - len(time))\n",
    "    times[i] = np.concatenate((time, padding))\n",
    "\n",
    "times = torch.tensor(times)\n",
    "\n",
    "X = torch.cat((times.unsqueeze(-1), X), dim=-1)"
   ]
  },
  {
   "cell_type": "code",
   "execution_count": 6,
   "metadata": {},
   "outputs": [],
   "source": [
    "def create_labels(X, lengths):\n",
    "    '''\n",
    "    Create labels for the data. The data is the first\n",
    "    1/2 of each sequence and the labels are the last 1/2.\n",
    "    Sequences are padded with zeros to be the same length.\n",
    "\n",
    "    Parameters\n",
    "    ----------\n",
    "    X : torch.Tensor\n",
    "        The data of shape (batch, seq_length, channels).\n",
    "    lengths : torch.Tensor\n",
    "        The lengths of the sequences.\n",
    "\n",
    "    Returns\n",
    "    -------\n",
    "    data : torch.Tensor\n",
    "        The data of shape (batch, seq_length, channels).\n",
    "    labels : torch.Tensor\n",
    "        The labels of shape (batch, seq_length, channels).\n",
    "    '''\n",
    "    data = torch.zeros(X.size(0), X.size(1) // 2, X.size(2))\n",
    "    labels = torch.zeros(X.size(0), X.size(1) // 2 + 1, X.size(2))\n",
    "\n",
    "    for i in range(X.size(0)):\n",
    "        # Pad datapoint with zeros\n",
    "        datapoint = X[i, :lengths[i] // 2]\n",
    "        padding = torch.zeros(X.size(1) // 2 - len(datapoint), X.size(2))\n",
    "        datapoint = torch.cat((datapoint, padding))\n",
    "\n",
    "        # Pad label with zeros\n",
    "        label = X[i, lengths[i] // 2:lengths[i]]\n",
    "        padding = torch.zeros(X.size(1) // 2 - len(label) + 1, X.size(2))\n",
    "        label = torch.cat((label, padding))\n",
    "        \n",
    "        data[i] = datapoint\n",
    "        labels[i] = label\n",
    "\n",
    "    return data, labels\n",
    "\n",
    "data, labels = create_labels(X, lengths)"
   ]
  },
  {
   "cell_type": "code",
   "execution_count": 7,
   "metadata": {},
   "outputs": [],
   "source": [
    "# Split the data into train and test\n",
    "np.random.seed(0)\n",
    "\n",
    "indices = np.arange(len(X))\n",
    "np.random.shuffle(indices)\n",
    "X_shuffled = X[indices]\n",
    "y_shuffled = y[indices]\n",
    "\n",
    "test_size = 0.2\n",
    "num_test = int(test_size * len(X))\n",
    "\n",
    "X_train, X_test = X_shuffled[:-num_test], X_shuffled[-num_test:]\n",
    "y_train, y_test = y_shuffled[:-num_test], y_shuffled[-num_test:]\n",
    "\n",
    "# Save the data\n",
    "path = '../../data/processed/CharacterTrajectories/regression'\n",
    "os.makedirs(path, exist_ok=True)\n",
    "torch.save(X_train, os.path.join(path, 'X_train.pt'))\n",
    "torch.save(y_train, os.path.join(path, 'y_train.pt'))\n",
    "torch.save(X_test, os.path.join(path, 'X_test.pt'))\n",
    "torch.save(y_test, os.path.join(path, 'y_test.pt'))"
   ]
  }
 ],
 "metadata": {
  "kernelspec": {
   "display_name": "Python 3 (ipykernel)",
   "language": "python",
   "name": "python3"
  },
  "language_info": {
   "codemirror_mode": {
    "name": "ipython",
    "version": 3
   },
   "file_extension": ".py",
   "mimetype": "text/x-python",
   "name": "python",
   "nbconvert_exporter": "python",
   "pygments_lexer": "ipython3",
   "version": "3.8.12"
  }
 },
 "nbformat": 4,
 "nbformat_minor": 4
}
