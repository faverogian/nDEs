{
 "cells": [
  {
   "cell_type": "markdown",
   "metadata": {},
   "source": [
    "# Pre-Processing Pipeline for ERA5 Dataset  \n",
    "\n",
    "## Overview\n",
    "\n",
    "This notebook contains the code for importing the raw ERA5 dataset and preparing it for use with a torchcde, LSTM, and RNN implementation."
   ]
  },
  {
   "cell_type": "code",
   "execution_count": 37,
   "metadata": {},
   "outputs": [],
   "source": [
    "import os\n",
    "import numpy as np\n",
    "import torch\n",
    "import pandas as pd\n",
    "\n",
    "# Load the data\n",
    "data = pd.read_csv('../../../data/raw/ERA5/train_weather_data.csv')"
   ]
  },
  {
   "cell_type": "code",
   "execution_count": 38,
   "metadata": {},
   "outputs": [],
   "source": [
    "# Reshape to (10, 26, 2)\n",
    "data = data.drop(columns=['date'])\n",
    "data = data.to_numpy()\n",
    "data = data.reshape(10, 26, 2)"
   ]
  },
  {
   "cell_type": "code",
   "execution_count": 39,
   "metadata": {},
   "outputs": [],
   "source": [
    "# Add time channel\n",
    "time = np.linspace(0, 25, 26)\n",
    "time = time.reshape(26, 1)\n",
    "time = np.tile(time, (10, 1, 1))\n",
    "data = np.concatenate((data, time), axis=2)"
   ]
  },
  {
   "cell_type": "code",
   "execution_count": 40,
   "metadata": {},
   "outputs": [],
   "source": [
    "# Normalize\n",
    "data = (data - np.mean(data)) / np.std(data)"
   ]
  },
  {
   "cell_type": "code",
   "execution_count": 41,
   "metadata": {},
   "outputs": [],
   "source": [
    "# Convert to tensor\n",
    "data = torch.tensor(data, dtype=torch.float32)"
   ]
  },
  {
   "cell_type": "code",
   "execution_count": 42,
   "metadata": {},
   "outputs": [],
   "source": [
    "# Split into train and test\n",
    "X_train = data[:8]\n",
    "X_test = data[8:]\n",
    "\n",
    "# Delete last 2 sequence elements from each sample\n",
    "X_train = X_train[:, :-2, :]\n",
    "X_test = X_test[:, :-2, :]\n",
    "\n",
    "# Further split each sequence\n",
    "X_train = torch.split(X_train, 12, dim=1)\n",
    "X_test = torch.split(X_test, 12, dim=1)\n",
    "\n",
    "# Recombine into a single tensor\n",
    "X_train = torch.cat(X_train, dim=0)\n",
    "X_test = torch.cat(X_test, dim=0)\n",
    "\n",
    "# Save the data\n",
    "path = '../../../data/processed/ERA5/regression'\n",
    "os.makedirs(path, exist_ok=True)\n",
    "torch.save(X_train, os.path.join(path, 'X_train.pt'))\n",
    "torch.save(X_test, os.path.join(path, 'X_test.pt'))"
   ]
  }
 ],
 "metadata": {
  "kernelspec": {
   "display_name": "venv",
   "language": "python",
   "name": "python3"
  },
  "language_info": {
   "codemirror_mode": {
    "name": "ipython",
    "version": 3
   },
   "file_extension": ".py",
   "mimetype": "text/x-python",
   "name": "python",
   "nbconvert_exporter": "python",
   "pygments_lexer": "ipython3",
   "version": "3.8.12"
  }
 },
 "nbformat": 4,
 "nbformat_minor": 2
}
